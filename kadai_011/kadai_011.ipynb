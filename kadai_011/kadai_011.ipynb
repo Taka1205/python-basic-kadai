{
  "nbformat": 4,
  "nbformat_minor": 0,
  "metadata": {
    "colab": {
      "provenance": [],
      "gpuType": "T4",
      "toc_visible": true
    },
    "kernelspec": {
      "name": "python3",
      "display_name": "Python 3"
    },
    "language_info": {
      "name": "python"
    },
    "accelerator": "GPU"
  },
  "cells": [
    {
      "cell_type": "code",
      "execution_count": 31,
      "metadata": {
        "colab": {
          "base_uri": "https://localhost:8080/"
        },
        "id": "41AlTUI6H-rq",
        "outputId": "2dcae3f5-a265-4181-f219-d2475a604381"
      },
      "outputs": [
        {
          "output_type": "stream",
          "name": "stdout",
          "text": [
            "水\n",
            "金\n",
            "地\n",
            "火\n",
            "木\n",
            "土\n",
            "天\n",
            "海\n",
            "冥\n",
            "水\n",
            "金\n",
            "地\n",
            "火\n",
            "木\n",
            "土\n",
            "天\n",
            "海\n",
            "冥\n"
          ]
        }
      ],
      "source": [
        "array = [\"水\",\"金\",\"地\",\"火\",\"木\",\"土\",\"天\",\"海\",\"冥\"]\n",
        "for i in array:\n",
        "  print(i)\n",
        "i= 0\n",
        "while True:\n",
        "  print(array[i])\n",
        "  if array[i] == \"冥\":\n",
        "    break\n",
        "  i=i+1"
      ]
    },
    {
      "cell_type": "code",
      "source": [],
      "metadata": {
        "id": "17HUP9dJufmj"
      },
      "execution_count": null,
      "outputs": []
    }
  ]
}