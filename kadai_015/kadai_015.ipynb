{
  "nbformat": 4,
  "nbformat_minor": 0,
  "metadata": {
    "colab": {
      "provenance": [],
      "gpuType": "T4",
      "toc_visible": true
    },
    "kernelspec": {
      "name": "python3",
      "display_name": "Python 3"
    },
    "language_info": {
      "name": "python"
    },
    "accelerator": "GPU"
  },
  "cells": [
    {
      "cell_type": "code",
      "execution_count": 4,
      "metadata": {
        "colab": {
          "base_uri": "https://localhost:8080/"
        },
        "id": "41AlTUI6H-rq",
        "outputId": "12617992-030c-4831-e96f-4a86dacc7af4"
      },
      "outputs": [
        {
          "output_type": "stream",
          "name": "stdout",
          "text": [
            "名前は侍太郎で年齢は36です\n"
          ]
        }
      ],
      "source": [
        "class Human:\n",
        "    # コンストラクタを定義する\n",
        "    def __init__(self, name, age):\n",
        "        self.name = name\n",
        "        self.age = age\n",
        "    def printinfo(self):\n",
        "      print(f\"名前は{self.name}で年齢は{self.age}です\")\n",
        "\n",
        "# インスタンス化する\n",
        "human = Human(\"侍太郎\", 36)\n",
        "\n",
        "# 属性にアクセスし、値を出力する\n",
        "human.printinfo()\n"
      ]
    },
    {
      "cell_type": "code",
      "source": [],
      "metadata": {
        "id": "17HUP9dJufmj"
      },
      "execution_count": null,
      "outputs": []
    }
  ]
}