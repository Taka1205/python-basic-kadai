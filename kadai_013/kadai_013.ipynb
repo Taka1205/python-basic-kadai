{
  "nbformat": 4,
  "nbformat_minor": 0,
  "metadata": {
    "colab": {
      "provenance": [],
      "gpuType": "T4",
      "toc_visible": true
    },
    "kernelspec": {
      "name": "python3",
      "display_name": "Python 3"
    },
    "language_info": {
      "name": "python"
    },
    "accelerator": "GPU"
  },
  "cells": [
    {
      "cell_type": "code",
      "execution_count": 6,
      "metadata": {
        "colab": {
          "base_uri": "https://localhost:8080/"
        },
        "id": "41AlTUI6H-rq",
        "outputId": "42e3e7db-9065-4131-d6ba-44a6c8c08d0c"
      },
      "outputs": [
        {
          "output_type": "stream",
          "name": "stdout",
          "text": [
            "220.0円の商品を購入しました\n"
          ]
        }
      ],
      "source": [
        "def price(cost_price,tax):\n",
        "  price = cost_price+cost_price * tax/100\n",
        "  return print(f\"{price}円の商品を購入しました\")\n",
        "\n",
        "\n",
        "cost_price = 200\n",
        "tax = 10\n",
        "price(cost_price,tax)"
      ]
    },
    {
      "cell_type": "code",
      "source": [],
      "metadata": {
        "id": "17HUP9dJufmj"
      },
      "execution_count": null,
      "outputs": []
    }
  ]
}