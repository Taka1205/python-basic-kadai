{
  "nbformat": 4,
  "nbformat_minor": 0,
  "metadata": {
    "colab": {
      "provenance": [],
      "gpuType": "T4",
      "toc_visible": true
    },
    "kernelspec": {
      "name": "python3",
      "display_name": "Python 3"
    },
    "language_info": {
      "name": "python"
    },
    "accelerator": "GPU"
  },
  "cells": [
    {
      "cell_type": "code",
      "execution_count": 4,
      "metadata": {
        "colab": {
          "base_uri": "https://localhost:8080/"
        },
        "id": "41AlTUI6H-rq",
        "outputId": "d2480eeb-b094-4ad2-ada1-4da802bd7bc1"
      },
      "outputs": [
        {
          "output_type": "stream",
          "name": "stdout",
          "text": [
            "侍太郎は19歳で子供です\n",
            "花子は21歳で大人です\n",
            "太郎は36歳で大人です\n"
          ]
        }
      ],
      "source": [
        "class Human:\n",
        "    # コンストラクタを定義する\n",
        "    def __init__(self, name, age):\n",
        "        self.name = name\n",
        "        self.age = age\n",
        "    def check_adult(self):\n",
        "      if self.age <20:\n",
        "        print(f\"{self.name}は{self.age}歳で子供です\")\n",
        "      else:\n",
        "        print(f\"{self.name}は{self.age}歳で大人です\")\n",
        "\n",
        "# インスタンス化する\n",
        "saumurai = Human(\"侍太郎\", 19)\n",
        "hanako = Human(\"花子\", 21)\n",
        "taro = Human(\"太郎\", 36)\n",
        "\n",
        "human_list = [saumurai,hanako,taro]\n",
        "\n",
        "# 属性にアクセスし、値を出力する\n",
        "for i in human_list:\n",
        "  i.check_adult()\n"
      ]
    },
    {
      "cell_type": "code",
      "source": [],
      "metadata": {
        "id": "17HUP9dJufmj"
      },
      "execution_count": null,
      "outputs": []
    }
  ]
}